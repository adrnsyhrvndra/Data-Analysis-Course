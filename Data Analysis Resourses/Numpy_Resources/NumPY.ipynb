{
  "nbformat": 4,
  "nbformat_minor": 0,
  "metadata": {
    "colab": {
      "name": "NumPY.ipynb",
      "provenance": [],
      "collapsed_sections": []
    },
    "kernelspec": {
      "name": "python3",
      "display_name": "Python 3"
    },
    "language_info": {
      "name": "python"
    }
  },
  "cells": [
    {
      "cell_type": "markdown",
      "source": [
        "**Basics of NumPy**"
      ],
      "metadata": {
        "id": "n7d1sEliSAYz"
      }
    },
    {
      "cell_type": "code",
      "source": [
        "import numpy as np"
      ],
      "metadata": {
        "id": "ToMToFcOI5Bf"
      },
      "execution_count": null,
      "outputs": []
    },
    {
      "cell_type": "markdown",
      "source": [
        "**Basic of Numpy**"
      ],
      "metadata": {
        "id": "6O1J63_wT4EV"
      }
    },
    {
      "cell_type": "code",
      "source": [
        "a = np.array([5,6,7])"
      ],
      "metadata": {
        "id": "UAqk5i5cT5Zx"
      },
      "execution_count": null,
      "outputs": []
    },
    {
      "cell_type": "code",
      "source": [
        "print(a)"
      ],
      "metadata": {
        "id": "aqWxMTUVSCsF",
        "colab": {
          "base_uri": "https://localhost:8080/"
        },
        "outputId": "ae3e3d89-d105-4bc2-98d1-8520e6c083d0"
      },
      "execution_count": null,
      "outputs": [
        {
          "output_type": "stream",
          "name": "stdout",
          "text": [
            "[5 6 7]\n"
          ]
        }
      ]
    },
    {
      "cell_type": "code",
      "source": [
        "b = np.array([[2.0,5.0,6.0],[8.0,2.0,9.0]])"
      ],
      "metadata": {
        "id": "Rqo880kNUZ3B"
      },
      "execution_count": null,
      "outputs": []
    },
    {
      "cell_type": "code",
      "source": [
        "print(b)"
      ],
      "metadata": {
        "colab": {
          "base_uri": "https://localhost:8080/"
        },
        "id": "Dj4RiZ-6U1uw",
        "outputId": "67e59ddf-c431-4761-b6cd-15e62be126e0"
      },
      "execution_count": null,
      "outputs": [
        {
          "output_type": "stream",
          "name": "stdout",
          "text": [
            "[[2. 5. 6.]\n",
            " [8. 2. 9.]]\n"
          ]
        }
      ]
    },
    {
      "cell_type": "code",
      "source": [
        "#dimentions\n",
        "a.ndim"
      ],
      "metadata": {
        "colab": {
          "base_uri": "https://localhost:8080/"
        },
        "id": "QwSevn_bVVKU",
        "outputId": "7d7cb3fe-24f2-4b08-e079-f909ed8bd6f1"
      },
      "execution_count": null,
      "outputs": [
        {
          "output_type": "execute_result",
          "data": {
            "text/plain": [
              "1"
            ]
          },
          "metadata": {},
          "execution_count": 6
        }
      ]
    },
    {
      "cell_type": "code",
      "source": [
        "b.ndim"
      ],
      "metadata": {
        "colab": {
          "base_uri": "https://localhost:8080/"
        },
        "id": "JlBJYNAfVf3R",
        "outputId": "0cceede1-47ae-4a88-a634-7423120d29a8"
      },
      "execution_count": null,
      "outputs": [
        {
          "output_type": "execute_result",
          "data": {
            "text/plain": [
              "2"
            ]
          },
          "metadata": {},
          "execution_count": 7
        }
      ]
    },
    {
      "cell_type": "code",
      "source": [
        "#shape\n",
        "a.shape"
      ],
      "metadata": {
        "colab": {
          "base_uri": "https://localhost:8080/"
        },
        "id": "XZcpN1Q2VkQ0",
        "outputId": "2e6d7bdf-2c35-4086-f6d2-2c1afba16bd1"
      },
      "execution_count": null,
      "outputs": [
        {
          "output_type": "execute_result",
          "data": {
            "text/plain": [
              "(3,)"
            ]
          },
          "metadata": {},
          "execution_count": 8
        }
      ]
    },
    {
      "cell_type": "code",
      "source": [
        "b.shape"
      ],
      "metadata": {
        "colab": {
          "base_uri": "https://localhost:8080/"
        },
        "id": "WvkrGi3QVypK",
        "outputId": "8a51da8b-9276-4f21-c91e-0e6c22d09644"
      },
      "execution_count": null,
      "outputs": [
        {
          "output_type": "execute_result",
          "data": {
            "text/plain": [
              "(2, 3)"
            ]
          },
          "metadata": {},
          "execution_count": 9
        }
      ]
    },
    {
      "cell_type": "code",
      "source": [
        "#type\n",
        "a.dtype"
      ],
      "metadata": {
        "colab": {
          "base_uri": "https://localhost:8080/"
        },
        "id": "64kxqjPVV7Py",
        "outputId": "263891a8-3893-464c-9c70-f20403597adc"
      },
      "execution_count": null,
      "outputs": [
        {
          "output_type": "execute_result",
          "data": {
            "text/plain": [
              "dtype('int64')"
            ]
          },
          "metadata": {},
          "execution_count": 10
        }
      ]
    },
    {
      "cell_type": "code",
      "source": [
        "b.dtype"
      ],
      "metadata": {
        "colab": {
          "base_uri": "https://localhost:8080/"
        },
        "id": "VwnCKOI-Zv05",
        "outputId": "b0fd60d6-1bd8-4a68-b5c9-a20b8946c266"
      },
      "execution_count": null,
      "outputs": [
        {
          "output_type": "execute_result",
          "data": {
            "text/plain": [
              "dtype('float64')"
            ]
          },
          "metadata": {},
          "execution_count": 11
        }
      ]
    },
    {
      "cell_type": "code",
      "source": [
        "#size\n",
        "a.itemsize"
      ],
      "metadata": {
        "colab": {
          "base_uri": "https://localhost:8080/"
        },
        "id": "GYd-qkalZzGX",
        "outputId": "7b31b375-6ac8-47b2-9f68-ab8983d2795c"
      },
      "execution_count": null,
      "outputs": [
        {
          "output_type": "execute_result",
          "data": {
            "text/plain": [
              "8"
            ]
          },
          "metadata": {},
          "execution_count": 12
        }
      ]
    },
    {
      "cell_type": "code",
      "source": [
        "b.itemsize"
      ],
      "metadata": {
        "colab": {
          "base_uri": "https://localhost:8080/"
        },
        "id": "rJ1QMpraa-3k",
        "outputId": "7d1fa3e9-432d-461e-da1d-0a5da663508c"
      },
      "execution_count": null,
      "outputs": [
        {
          "output_type": "execute_result",
          "data": {
            "text/plain": [
              "8"
            ]
          },
          "metadata": {},
          "execution_count": 13
        }
      ]
    },
    {
      "cell_type": "code",
      "source": [
        "a.nbytes"
      ],
      "metadata": {
        "colab": {
          "base_uri": "https://localhost:8080/"
        },
        "id": "FpPilyCWjD2m",
        "outputId": "cd0a198f-4596-498f-9c2d-403c19deba95"
      },
      "execution_count": null,
      "outputs": [
        {
          "output_type": "execute_result",
          "data": {
            "text/plain": [
              "24"
            ]
          },
          "metadata": {},
          "execution_count": 14
        }
      ]
    },
    {
      "cell_type": "markdown",
      "source": [
        "**Accessing/Changing specific elements, rows, columns etc.**"
      ],
      "metadata": {
        "id": "UMgYe5D_vG7c"
      }
    },
    {
      "cell_type": "code",
      "source": [
        "a = np.array([[10,21,22,2,8,9,12],[12,1,2,4,9,6,5]])\n",
        "print(a)"
      ],
      "metadata": {
        "colab": {
          "base_uri": "https://localhost:8080/"
        },
        "id": "XVnhnuRo4ENz",
        "outputId": "3ce8b135-0305-4166-a238-ca0e4f1c30a4"
      },
      "execution_count": null,
      "outputs": [
        {
          "output_type": "stream",
          "name": "stdout",
          "text": [
            "[[10 21 22  2  8  9 12]\n",
            " [12  1  2  4  9  6  5]]\n"
          ]
        }
      ]
    },
    {
      "cell_type": "code",
      "source": [
        "# get specific elements\n",
        "a[0,3]"
      ],
      "metadata": {
        "colab": {
          "base_uri": "https://localhost:8080/"
        },
        "id": "tBuru34u4OrY",
        "outputId": "2cf9ab9c-2b8b-4df0-b7c4-1b37627860fb"
      },
      "execution_count": null,
      "outputs": [
        {
          "output_type": "execute_result",
          "data": {
            "text/plain": [
              "2"
            ]
          },
          "metadata": {},
          "execution_count": 16
        }
      ]
    },
    {
      "cell_type": "code",
      "source": [
        "a[1,4]"
      ],
      "metadata": {
        "colab": {
          "base_uri": "https://localhost:8080/"
        },
        "id": "8GL5XFWg4qYW",
        "outputId": "37f5c24d-9f64-4722-c671-f0d91fda9507"
      },
      "execution_count": null,
      "outputs": [
        {
          "output_type": "execute_result",
          "data": {
            "text/plain": [
              "9"
            ]
          },
          "metadata": {},
          "execution_count": 17
        }
      ]
    },
    {
      "cell_type": "code",
      "source": [
        "a[0,-1]"
      ],
      "metadata": {
        "colab": {
          "base_uri": "https://localhost:8080/"
        },
        "id": "pBhkjdRi5Deo",
        "outputId": "fc888aa3-9410-4d61-a921-82c855e09c40"
      },
      "execution_count": null,
      "outputs": [
        {
          "output_type": "execute_result",
          "data": {
            "text/plain": [
              "12"
            ]
          },
          "metadata": {},
          "execution_count": 18
        }
      ]
    },
    {
      "cell_type": "code",
      "source": [
        "a[1,-4]"
      ],
      "metadata": {
        "colab": {
          "base_uri": "https://localhost:8080/"
        },
        "id": "LpasMauk5NUJ",
        "outputId": "04a99bce-07db-4167-a69b-f6cb06b024b3"
      },
      "execution_count": null,
      "outputs": [
        {
          "output_type": "execute_result",
          "data": {
            "text/plain": [
              "4"
            ]
          },
          "metadata": {},
          "execution_count": 19
        }
      ]
    },
    {
      "cell_type": "code",
      "source": [
        "print(a)"
      ],
      "metadata": {
        "colab": {
          "base_uri": "https://localhost:8080/"
        },
        "id": "hjt44Wvr5Tpk",
        "outputId": "9a935fde-f0cc-4c08-fde7-0e7f96a9c2c5"
      },
      "execution_count": null,
      "outputs": [
        {
          "output_type": "stream",
          "name": "stdout",
          "text": [
            "[[10 21 22  2  8  9 12]\n",
            " [12  1  2  4  9  6  5]]\n"
          ]
        }
      ]
    },
    {
      "cell_type": "code",
      "source": [
        "print(a[0])"
      ],
      "metadata": {
        "colab": {
          "base_uri": "https://localhost:8080/"
        },
        "id": "NON8Vcok5Xp4",
        "outputId": "babd6445-5f1c-45f6-9b8d-c5b54f48bd76"
      },
      "execution_count": null,
      "outputs": [
        {
          "output_type": "stream",
          "name": "stdout",
          "text": [
            "[10 21 22  2  8  9 12]\n"
          ]
        }
      ]
    },
    {
      "cell_type": "code",
      "source": [
        "print(a[0,:])"
      ],
      "metadata": {
        "colab": {
          "base_uri": "https://localhost:8080/"
        },
        "id": "WVCYD3Qg5tl2",
        "outputId": "0a3f916f-5ce9-45e0-c4dc-bd47d19bf0a5"
      },
      "execution_count": null,
      "outputs": [
        {
          "output_type": "stream",
          "name": "stdout",
          "text": [
            "[10 21 22  2  8  9 12]\n"
          ]
        }
      ]
    },
    {
      "cell_type": "code",
      "source": [
        "print(a[:,0])"
      ],
      "metadata": {
        "colab": {
          "base_uri": "https://localhost:8080/"
        },
        "id": "wrTRuk146U2O",
        "outputId": "4c769037-346c-4666-f33e-12dec69acc85"
      },
      "execution_count": null,
      "outputs": [
        {
          "output_type": "stream",
          "name": "stdout",
          "text": [
            "[10 12]\n"
          ]
        }
      ]
    },
    {
      "cell_type": "code",
      "source": [
        "#changing the elements"
      ],
      "metadata": {
        "id": "43wr1-dd7Ofz"
      },
      "execution_count": null,
      "outputs": []
    },
    {
      "cell_type": "code",
      "source": [
        "print(a)"
      ],
      "metadata": {
        "colab": {
          "base_uri": "https://localhost:8080/"
        },
        "id": "sqi_nWoj7S7F",
        "outputId": "b873bcbe-f8fd-43b3-bfc7-c554d782f368"
      },
      "execution_count": null,
      "outputs": [
        {
          "output_type": "stream",
          "name": "stdout",
          "text": [
            "[[10 21 22  2  8  9 12]\n",
            " [12  1  2  4  9  6  5]]\n"
          ]
        }
      ]
    },
    {
      "cell_type": "code",
      "source": [
        "a[0,2] = 12"
      ],
      "metadata": {
        "id": "FkSzZXCx7eMC"
      },
      "execution_count": null,
      "outputs": []
    },
    {
      "cell_type": "code",
      "source": [
        "print(a)"
      ],
      "metadata": {
        "colab": {
          "base_uri": "https://localhost:8080/"
        },
        "id": "MZ16zfKq7nxs",
        "outputId": "467ebf19-5fcb-43fe-e782-33a22ee8c41d"
      },
      "execution_count": null,
      "outputs": [
        {
          "output_type": "stream",
          "name": "stdout",
          "text": [
            "[[10 21 12  2  8  9 12]\n",
            " [12  1  2  4  9  6  5]]\n"
          ]
        }
      ]
    },
    {
      "cell_type": "code",
      "source": [
        "a[:,3] = 3\n",
        "print(a)"
      ],
      "metadata": {
        "colab": {
          "base_uri": "https://localhost:8080/"
        },
        "id": "r6g1dSVP7tk9",
        "outputId": "b9e850f9-3c56-4db8-e4ba-22f3b5a242b1"
      },
      "execution_count": null,
      "outputs": [
        {
          "output_type": "stream",
          "name": "stdout",
          "text": [
            "[[10 21 12  3  8  9 12]\n",
            " [12  1  2  3  9  6  5]]\n"
          ]
        }
      ]
    },
    {
      "cell_type": "code",
      "source": [
        "a[:,3] = [1,2]\n",
        "print(a)"
      ],
      "metadata": {
        "colab": {
          "base_uri": "https://localhost:8080/"
        },
        "id": "QAyDpzPa8nQc",
        "outputId": "2f785486-3ab4-4a39-c56e-9be2c2731d83"
      },
      "execution_count": null,
      "outputs": [
        {
          "output_type": "stream",
          "name": "stdout",
          "text": [
            "[[10 21 12  1  8  9 12]\n",
            " [12  1  2  2  9  6  5]]\n"
          ]
        }
      ]
    },
    {
      "cell_type": "code",
      "source": [
        "#3d array\n",
        "b = np.array([[[3,4],[6,5]],[[1,5],[9,8]]])\n",
        "print(b)"
      ],
      "metadata": {
        "colab": {
          "base_uri": "https://localhost:8080/"
        },
        "id": "FALIUL609GXm",
        "outputId": "6b0c675c-da40-42c3-e839-1f8871f67715"
      },
      "execution_count": null,
      "outputs": [
        {
          "output_type": "stream",
          "name": "stdout",
          "text": [
            "[[[3 4]\n",
            "  [6 5]]\n",
            "\n",
            " [[1 5]\n",
            "  [9 8]]]\n"
          ]
        }
      ]
    },
    {
      "cell_type": "markdown",
      "source": [
        "**Initializing Different Arrays**"
      ],
      "metadata": {
        "id": "7vNvX7rbDSrb"
      }
    },
    {
      "cell_type": "code",
      "source": [
        "#all zeros matrics\n",
        "np.zeros(4)"
      ],
      "metadata": {
        "colab": {
          "base_uri": "https://localhost:8080/"
        },
        "id": "wfIzNOgZEtoc",
        "outputId": "4c05fe93-4902-4969-c7f2-d034c6d0d5b5"
      },
      "execution_count": null,
      "outputs": [
        {
          "output_type": "execute_result",
          "data": {
            "text/plain": [
              "array([0., 0., 0., 0.])"
            ]
          },
          "metadata": {},
          "execution_count": 31
        }
      ]
    },
    {
      "cell_type": "code",
      "source": [
        "#numpy.zeros(shape, dtype=float, order='C')\n",
        "np.zeros((3,3))"
      ],
      "metadata": {
        "colab": {
          "base_uri": "https://localhost:8080/"
        },
        "id": "Z0iPDjKYFKLt",
        "outputId": "adaa781b-1b89-4a7f-ba4e-83848c874981"
      },
      "execution_count": null,
      "outputs": [
        {
          "output_type": "execute_result",
          "data": {
            "text/plain": [
              "array([[0., 0., 0.],\n",
              "       [0., 0., 0.],\n",
              "       [0., 0., 0.]])"
            ]
          },
          "metadata": {},
          "execution_count": 32
        }
      ]
    },
    {
      "cell_type": "code",
      "source": [
        "np.zeros((3,4))"
      ],
      "metadata": {
        "colab": {
          "base_uri": "https://localhost:8080/"
        },
        "id": "U4YsB9XoGRZ_",
        "outputId": "1fb0ec6d-1888-40c7-cfb6-2ee183609d41"
      },
      "execution_count": null,
      "outputs": [
        {
          "output_type": "execute_result",
          "data": {
            "text/plain": [
              "array([[0., 0., 0., 0.],\n",
              "       [0., 0., 0., 0.],\n",
              "       [0., 0., 0., 0.]])"
            ]
          },
          "metadata": {},
          "execution_count": 33
        }
      ]
    },
    {
      "cell_type": "code",
      "source": [
        "np.zeros((4,5,5))"
      ],
      "metadata": {
        "colab": {
          "base_uri": "https://localhost:8080/"
        },
        "id": "OF4BwLdCGWop",
        "outputId": "e022a1e6-d3d2-4c96-9285-f5299f112238"
      },
      "execution_count": null,
      "outputs": [
        {
          "output_type": "execute_result",
          "data": {
            "text/plain": [
              "array([[[0., 0., 0., 0., 0.],\n",
              "        [0., 0., 0., 0., 0.],\n",
              "        [0., 0., 0., 0., 0.],\n",
              "        [0., 0., 0., 0., 0.],\n",
              "        [0., 0., 0., 0., 0.]],\n",
              "\n",
              "       [[0., 0., 0., 0., 0.],\n",
              "        [0., 0., 0., 0., 0.],\n",
              "        [0., 0., 0., 0., 0.],\n",
              "        [0., 0., 0., 0., 0.],\n",
              "        [0., 0., 0., 0., 0.]],\n",
              "\n",
              "       [[0., 0., 0., 0., 0.],\n",
              "        [0., 0., 0., 0., 0.],\n",
              "        [0., 0., 0., 0., 0.],\n",
              "        [0., 0., 0., 0., 0.],\n",
              "        [0., 0., 0., 0., 0.]],\n",
              "\n",
              "       [[0., 0., 0., 0., 0.],\n",
              "        [0., 0., 0., 0., 0.],\n",
              "        [0., 0., 0., 0., 0.],\n",
              "        [0., 0., 0., 0., 0.],\n",
              "        [0., 0., 0., 0., 0.]]])"
            ]
          },
          "metadata": {},
          "execution_count": 34
        }
      ]
    },
    {
      "cell_type": "code",
      "source": [
        "np.ones(4)"
      ],
      "metadata": {
        "colab": {
          "base_uri": "https://localhost:8080/"
        },
        "id": "KSXJ0LH3GiL7",
        "outputId": "abfc7f58-34b8-4953-b644-368a570fea24"
      },
      "execution_count": null,
      "outputs": [
        {
          "output_type": "execute_result",
          "data": {
            "text/plain": [
              "array([1., 1., 1., 1.])"
            ]
          },
          "metadata": {},
          "execution_count": 35
        }
      ]
    },
    {
      "cell_type": "code",
      "source": [
        "np.ones((4,4))"
      ],
      "metadata": {
        "colab": {
          "base_uri": "https://localhost:8080/"
        },
        "id": "_Ufdov9LGuqM",
        "outputId": "92a1148c-8f1c-4d94-c45d-3a88a7ed56af"
      },
      "execution_count": null,
      "outputs": [
        {
          "output_type": "execute_result",
          "data": {
            "text/plain": [
              "array([[1., 1., 1., 1.],\n",
              "       [1., 1., 1., 1.],\n",
              "       [1., 1., 1., 1.],\n",
              "       [1., 1., 1., 1.]])"
            ]
          },
          "metadata": {},
          "execution_count": 36
        }
      ]
    },
    {
      "cell_type": "code",
      "source": [
        "np.full((2,2),5)"
      ],
      "metadata": {
        "colab": {
          "base_uri": "https://localhost:8080/"
        },
        "id": "xWSUVEtCG2kb",
        "outputId": "e4d710b3-14f1-4c55-cb38-4002feb5ce8b"
      },
      "execution_count": null,
      "outputs": [
        {
          "output_type": "execute_result",
          "data": {
            "text/plain": [
              "array([[5, 5],\n",
              "       [5, 5]])"
            ]
          },
          "metadata": {},
          "execution_count": 37
        }
      ]
    },
    {
      "cell_type": "code",
      "source": [
        "np.full((3,3),3,dtype = 'float32')"
      ],
      "metadata": {
        "colab": {
          "base_uri": "https://localhost:8080/"
        },
        "id": "vTNzxlrlHB-K",
        "outputId": "6cedec19-0850-44f4-bcf4-25e1f76bf8b0"
      },
      "execution_count": null,
      "outputs": [
        {
          "output_type": "execute_result",
          "data": {
            "text/plain": [
              "array([[3., 3., 3.],\n",
              "       [3., 3., 3.],\n",
              "       [3., 3., 3.]], dtype=float32)"
            ]
          },
          "metadata": {},
          "execution_count": 38
        }
      ]
    },
    {
      "cell_type": "code",
      "source": [
        "a"
      ],
      "metadata": {
        "colab": {
          "base_uri": "https://localhost:8080/"
        },
        "id": "rF_YUTOIHTFf",
        "outputId": "7098c176-25fe-4f2f-a731-b063b8a74ad8"
      },
      "execution_count": null,
      "outputs": [
        {
          "output_type": "execute_result",
          "data": {
            "text/plain": [
              "array([[10, 21, 12,  1,  8,  9, 12],\n",
              "       [12,  1,  2,  2,  9,  6,  5]])"
            ]
          },
          "metadata": {},
          "execution_count": 39
        }
      ]
    },
    {
      "cell_type": "code",
      "source": [
        "np.full_like(a, 4)"
      ],
      "metadata": {
        "colab": {
          "base_uri": "https://localhost:8080/"
        },
        "id": "Vx9BPbs3HZo9",
        "outputId": "6c0c812c-f915-422a-8891-50eace064cef"
      },
      "execution_count": null,
      "outputs": [
        {
          "output_type": "execute_result",
          "data": {
            "text/plain": [
              "array([[4, 4, 4, 4, 4, 4, 4],\n",
              "       [4, 4, 4, 4, 4, 4, 4]])"
            ]
          },
          "metadata": {},
          "execution_count": 40
        }
      ]
    },
    {
      "cell_type": "code",
      "source": [
        "#ramdom decimals\n",
        "np.random.rand(4,2)"
      ],
      "metadata": {
        "colab": {
          "base_uri": "https://localhost:8080/"
        },
        "id": "yMQ6ys2QHk_s",
        "outputId": "c33894dd-e138-4d39-f3d2-da3480b6d810"
      },
      "execution_count": null,
      "outputs": [
        {
          "output_type": "execute_result",
          "data": {
            "text/plain": [
              "array([[0.03645308, 0.78705405],\n",
              "       [0.48844896, 0.31985018],\n",
              "       [0.79789135, 0.78294482],\n",
              "       [0.050479  , 0.79564362]])"
            ]
          },
          "metadata": {},
          "execution_count": 41
        }
      ]
    },
    {
      "cell_type": "code",
      "source": [
        "np.random.random_sample(a.shape)"
      ],
      "metadata": {
        "colab": {
          "base_uri": "https://localhost:8080/"
        },
        "id": "NHm45E8cILu3",
        "outputId": "956bc6c5-1e91-4156-eb91-7c1267591dcb"
      },
      "execution_count": null,
      "outputs": [
        {
          "output_type": "execute_result",
          "data": {
            "text/plain": [
              "array([[0.66810182, 0.04286826, 0.80662102, 0.06367593, 0.33900996,\n",
              "        0.99249191, 0.28182805],\n",
              "       [0.75296279, 0.61781132, 0.06784062, 0.38769982, 0.32090717,\n",
              "        0.87911674, 0.88696183]])"
            ]
          },
          "metadata": {},
          "execution_count": 42
        }
      ]
    },
    {
      "cell_type": "code",
      "source": [
        "np.identity(6)"
      ],
      "metadata": {
        "colab": {
          "base_uri": "https://localhost:8080/"
        },
        "id": "1sD47Sh4I-P-",
        "outputId": "fd8faca6-fe80-40e9-9540-5c949cdddcfe"
      },
      "execution_count": null,
      "outputs": [
        {
          "output_type": "execute_result",
          "data": {
            "text/plain": [
              "array([[1., 0., 0., 0., 0., 0.],\n",
              "       [0., 1., 0., 0., 0., 0.],\n",
              "       [0., 0., 1., 0., 0., 0.],\n",
              "       [0., 0., 0., 1., 0., 0.],\n",
              "       [0., 0., 0., 0., 1., 0.],\n",
              "       [0., 0., 0., 0., 0., 1.]])"
            ]
          },
          "metadata": {},
          "execution_count": 43
        }
      ]
    },
    {
      "cell_type": "code",
      "source": [
        "arr = np.array([[11,12,5]])\n",
        "a1 = np.repeat(arr, 3, axis = 1)\n",
        "print(a1)"
      ],
      "metadata": {
        "colab": {
          "base_uri": "https://localhost:8080/"
        },
        "id": "Nur6BxvhJLcn",
        "outputId": "26266012-0a73-44c1-b7d7-a034c12a7a3c"
      },
      "execution_count": null,
      "outputs": [
        {
          "output_type": "stream",
          "name": "stdout",
          "text": [
            "[[11 11 11 12 12 12  5  5  5]]\n"
          ]
        }
      ]
    },
    {
      "cell_type": "markdown",
      "source": [
        "**Mathematics**"
      ],
      "metadata": {
        "id": "PoP6BY_tdBD-"
      }
    },
    {
      "cell_type": "code",
      "source": [
        "a = np.array([1,2,3,4])\n",
        "print(a)"
      ],
      "metadata": {
        "colab": {
          "base_uri": "https://localhost:8080/"
        },
        "id": "roUtjka4dHAF",
        "outputId": "73f1d996-62cd-4d97-a110-68f8bc88664c"
      },
      "execution_count": null,
      "outputs": [
        {
          "output_type": "stream",
          "name": "stdout",
          "text": [
            "[1 2 3 4]\n"
          ]
        }
      ]
    },
    {
      "cell_type": "code",
      "source": [
        "a +5 "
      ],
      "metadata": {
        "colab": {
          "base_uri": "https://localhost:8080/"
        },
        "id": "QeLMstVKJ3nR",
        "outputId": "451d849e-fc71-4ca1-81b3-91445227dbd6"
      },
      "execution_count": null,
      "outputs": [
        {
          "output_type": "execute_result",
          "data": {
            "text/plain": [
              "array([6, 7, 8, 9])"
            ]
          },
          "metadata": {},
          "execution_count": 46
        }
      ]
    },
    {
      "cell_type": "code",
      "source": [
        "a - 3"
      ],
      "metadata": {
        "colab": {
          "base_uri": "https://localhost:8080/"
        },
        "id": "nhRMZnbfkJ4E",
        "outputId": "a1d60986-5edf-4eac-b18f-75665dfc8ae9"
      },
      "execution_count": null,
      "outputs": [
        {
          "output_type": "execute_result",
          "data": {
            "text/plain": [
              "array([-2, -1,  0,  1])"
            ]
          },
          "metadata": {},
          "execution_count": 47
        }
      ]
    },
    {
      "cell_type": "code",
      "source": [
        "a*3"
      ],
      "metadata": {
        "colab": {
          "base_uri": "https://localhost:8080/"
        },
        "id": "6cZkY0GakWGk",
        "outputId": "588e0de3-e8a8-4bc4-d423-66448d3cb0dd"
      },
      "execution_count": null,
      "outputs": [
        {
          "output_type": "execute_result",
          "data": {
            "text/plain": [
              "array([ 3,  6,  9, 12])"
            ]
          },
          "metadata": {},
          "execution_count": 48
        }
      ]
    },
    {
      "cell_type": "code",
      "source": [
        "a/3"
      ],
      "metadata": {
        "colab": {
          "base_uri": "https://localhost:8080/"
        },
        "id": "3o-exCmzkbcq",
        "outputId": "9b72bd14-ec05-4368-b5e1-97894dc5ffae"
      },
      "execution_count": null,
      "outputs": [
        {
          "output_type": "execute_result",
          "data": {
            "text/plain": [
              "array([0.33333333, 0.66666667, 1.        , 1.33333333])"
            ]
          },
          "metadata": {},
          "execution_count": 49
        }
      ]
    },
    {
      "cell_type": "code",
      "source": [
        "a//3"
      ],
      "metadata": {
        "colab": {
          "base_uri": "https://localhost:8080/"
        },
        "id": "XEzP8gP5knBx",
        "outputId": "f2d1383a-3098-400c-e216-6e3305aa14e6"
      },
      "execution_count": null,
      "outputs": [
        {
          "output_type": "execute_result",
          "data": {
            "text/plain": [
              "array([0, 0, 1, 1])"
            ]
          },
          "metadata": {},
          "execution_count": 50
        }
      ]
    },
    {
      "cell_type": "code",
      "source": [
        "b = np.array([5,6,7,8])"
      ],
      "metadata": {
        "id": "I35AruV_lFIp"
      },
      "execution_count": null,
      "outputs": []
    },
    {
      "cell_type": "code",
      "source": [
        "a + b"
      ],
      "metadata": {
        "colab": {
          "base_uri": "https://localhost:8080/"
        },
        "id": "jBIQIu_eldHz",
        "outputId": "dfcb4246-d693-4077-9a26-6b02bb8910bf"
      },
      "execution_count": null,
      "outputs": [
        {
          "output_type": "execute_result",
          "data": {
            "text/plain": [
              "array([ 6,  8, 10, 12])"
            ]
          },
          "metadata": {},
          "execution_count": 52
        }
      ]
    },
    {
      "cell_type": "code",
      "source": [
        "a**3"
      ],
      "metadata": {
        "colab": {
          "base_uri": "https://localhost:8080/"
        },
        "id": "0Moni2suli04",
        "outputId": "8336742c-1ed0-45ee-8a22-fb886722c0dc"
      },
      "execution_count": null,
      "outputs": [
        {
          "output_type": "execute_result",
          "data": {
            "text/plain": [
              "array([ 1,  8, 27, 64])"
            ]
          },
          "metadata": {},
          "execution_count": 53
        }
      ]
    },
    {
      "cell_type": "code",
      "source": [
        "np.sin(a)"
      ],
      "metadata": {
        "colab": {
          "base_uri": "https://localhost:8080/"
        },
        "id": "iM-oTnNxly47",
        "outputId": "f80eda42-f3fb-4614-8101-f66bb2cc078c"
      },
      "execution_count": null,
      "outputs": [
        {
          "output_type": "execute_result",
          "data": {
            "text/plain": [
              "array([ 0.84147098,  0.90929743,  0.14112001, -0.7568025 ])"
            ]
          },
          "metadata": {},
          "execution_count": 54
        }
      ]
    },
    {
      "cell_type": "code",
      "source": [
        "np.cos(a)"
      ],
      "metadata": {
        "colab": {
          "base_uri": "https://localhost:8080/"
        },
        "id": "1YbZbee0l4BK",
        "outputId": "6d3c6261-b1f2-4204-f8b8-e7e8cb5c2db0"
      },
      "execution_count": null,
      "outputs": [
        {
          "output_type": "execute_result",
          "data": {
            "text/plain": [
              "array([ 0.54030231, -0.41614684, -0.9899925 , -0.65364362])"
            ]
          },
          "metadata": {},
          "execution_count": 55
        }
      ]
    },
    {
      "cell_type": "markdown",
      "source": [
        "**Linear Algebra**"
      ],
      "metadata": {
        "id": "CqF-tU-UmiT9"
      }
    },
    {
      "cell_type": "code",
      "source": [
        "a = np.full((3,4),5)\n",
        "b = np.full((4,5),4)\n",
        "print(a)\n",
        "print(b)"
      ],
      "metadata": {
        "colab": {
          "base_uri": "https://localhost:8080/"
        },
        "id": "HbtclUszo-gp",
        "outputId": "1618b0de-880c-4f92-edd9-521eb3130ccc"
      },
      "execution_count": null,
      "outputs": [
        {
          "output_type": "stream",
          "name": "stdout",
          "text": [
            "[[5 5 5 5]\n",
            " [5 5 5 5]\n",
            " [5 5 5 5]]\n",
            "[[4 4 4 4 4]\n",
            " [4 4 4 4 4]\n",
            " [4 4 4 4 4]\n",
            " [4 4 4 4 4]]\n"
          ]
        }
      ]
    },
    {
      "cell_type": "code",
      "source": [
        "a*b"
      ],
      "metadata": {
        "colab": {
          "base_uri": "https://localhost:8080/",
          "height": 171
        },
        "id": "NiE1N97opjW2",
        "outputId": "7fb5630c-05c2-4b16-b280-89f203617e5c"
      },
      "execution_count": null,
      "outputs": [
        {
          "output_type": "error",
          "ename": "ValueError",
          "evalue": "ignored",
          "traceback": [
            "\u001b[0;31m---------------------------------------------------------------------------\u001b[0m",
            "\u001b[0;31mValueError\u001b[0m                                Traceback (most recent call last)",
            "\u001b[0;32m<ipython-input-57-8ce765dcfa30>\u001b[0m in \u001b[0;36m<module>\u001b[0;34m()\u001b[0m\n\u001b[0;32m----> 1\u001b[0;31m \u001b[0ma\u001b[0m\u001b[0;34m*\u001b[0m\u001b[0mb\u001b[0m\u001b[0;34m\u001b[0m\u001b[0;34m\u001b[0m\u001b[0m\n\u001b[0m",
            "\u001b[0;31mValueError\u001b[0m: operands could not be broadcast together with shapes (3,4) (4,5) "
          ]
        }
      ]
    },
    {
      "cell_type": "code",
      "source": [
        "np.matmul(a,b)"
      ],
      "metadata": {
        "colab": {
          "base_uri": "https://localhost:8080/"
        },
        "id": "IxBupI9Cptc_",
        "outputId": "d4f1c5ea-9f59-4e89-9e85-ad1cbd813d59"
      },
      "execution_count": null,
      "outputs": [
        {
          "output_type": "execute_result",
          "data": {
            "text/plain": [
              "array([[80, 80, 80, 80, 80],\n",
              "       [80, 80, 80, 80, 80],\n",
              "       [80, 80, 80, 80, 80]])"
            ]
          },
          "metadata": {},
          "execution_count": 58
        }
      ]
    },
    {
      "cell_type": "code",
      "source": [
        "c = np.identity(5)"
      ],
      "metadata": {
        "id": "uX52CRwFqH2-"
      },
      "execution_count": null,
      "outputs": []
    },
    {
      "cell_type": "code",
      "source": [
        "np.linalg.det(c)"
      ],
      "metadata": {
        "colab": {
          "base_uri": "https://localhost:8080/"
        },
        "id": "WqnNKpiUqad7",
        "outputId": "533b083f-c175-467a-feb9-a89d19a00d99"
      },
      "execution_count": null,
      "outputs": [
        {
          "output_type": "execute_result",
          "data": {
            "text/plain": [
              "1.0"
            ]
          },
          "metadata": {},
          "execution_count": 60
        }
      ]
    },
    {
      "cell_type": "markdown",
      "source": [
        "**Statistics**"
      ],
      "metadata": {
        "id": "qZBcsFshq58j"
      }
    },
    {
      "cell_type": "code",
      "source": [
        "s = np.array([[1,2,3],[4,5,6]])"
      ],
      "metadata": {
        "id": "XhyIqQyLrJ76"
      },
      "execution_count": null,
      "outputs": []
    },
    {
      "cell_type": "code",
      "source": [
        "s"
      ],
      "metadata": {
        "colab": {
          "base_uri": "https://localhost:8080/"
        },
        "id": "fwZXmXVWqgmS",
        "outputId": "ece13281-61e8-4cf4-9908-d187ad09cde7"
      },
      "execution_count": null,
      "outputs": [
        {
          "output_type": "execute_result",
          "data": {
            "text/plain": [
              "array([[1, 2, 3],\n",
              "       [4, 5, 6]])"
            ]
          },
          "metadata": {},
          "execution_count": 62
        }
      ]
    },
    {
      "cell_type": "code",
      "source": [
        "np.min(s, axis = 1)"
      ],
      "metadata": {
        "colab": {
          "base_uri": "https://localhost:8080/"
        },
        "id": "xMTPG9wNrdES",
        "outputId": "e648eaf9-c65b-4bad-ba67-c22d8d5da531"
      },
      "execution_count": null,
      "outputs": [
        {
          "output_type": "execute_result",
          "data": {
            "text/plain": [
              "array([1, 4])"
            ]
          },
          "metadata": {},
          "execution_count": 63
        }
      ]
    },
    {
      "cell_type": "code",
      "source": [
        "np.max(s)"
      ],
      "metadata": {
        "colab": {
          "base_uri": "https://localhost:8080/"
        },
        "id": "gPrd_tABruJj",
        "outputId": "c034018a-3a4e-4d38-b5c0-c16540819335"
      },
      "execution_count": null,
      "outputs": [
        {
          "output_type": "execute_result",
          "data": {
            "text/plain": [
              "6"
            ]
          },
          "metadata": {},
          "execution_count": 64
        }
      ]
    },
    {
      "cell_type": "code",
      "source": [
        "np.sum(s)"
      ],
      "metadata": {
        "colab": {
          "base_uri": "https://localhost:8080/"
        },
        "id": "-XLBi7I_r4gj",
        "outputId": "f9f0050b-dffd-41c5-a090-da5b70ade39e"
      },
      "execution_count": null,
      "outputs": [
        {
          "output_type": "execute_result",
          "data": {
            "text/plain": [
              "21"
            ]
          },
          "metadata": {},
          "execution_count": 65
        }
      ]
    },
    {
      "cell_type": "code",
      "source": [
        "np.sum(s, axis = 1)"
      ],
      "metadata": {
        "colab": {
          "base_uri": "https://localhost:8080/"
        },
        "id": "OjTDsF53sAdp",
        "outputId": "740402d6-ff52-4e0d-f7a8-719e473691da"
      },
      "execution_count": null,
      "outputs": [
        {
          "output_type": "execute_result",
          "data": {
            "text/plain": [
              "array([ 6, 15])"
            ]
          },
          "metadata": {},
          "execution_count": 66
        }
      ]
    },
    {
      "cell_type": "markdown",
      "source": [
        "**Reorganizing Arrays**"
      ],
      "metadata": {
        "id": "alwkA7pWU82V"
      }
    },
    {
      "cell_type": "code",
      "source": [
        "b1 = np.array([[2,4,6,8],[1,3,5,7]])\n",
        "b1"
      ],
      "metadata": {
        "colab": {
          "base_uri": "https://localhost:8080/"
        },
        "id": "NgiMD5syVDJ5",
        "outputId": "6da62157-df74-4300-f390-de56dd64814d"
      },
      "execution_count": null,
      "outputs": [
        {
          "output_type": "execute_result",
          "data": {
            "text/plain": [
              "array([[2, 4, 6, 8],\n",
              "       [1, 3, 5, 7]])"
            ]
          },
          "metadata": {},
          "execution_count": 68
        }
      ]
    },
    {
      "cell_type": "code",
      "source": [
        "a1 = b1.reshape((4,2))"
      ],
      "metadata": {
        "id": "BUBWu0nyVrN-"
      },
      "execution_count": null,
      "outputs": []
    },
    {
      "cell_type": "code",
      "source": [
        "print(a1)"
      ],
      "metadata": {
        "colab": {
          "base_uri": "https://localhost:8080/"
        },
        "id": "0B7y-ptcV2Bc",
        "outputId": "d0c694f7-102a-4b6d-d147-df59825a68fc"
      },
      "execution_count": null,
      "outputs": [
        {
          "output_type": "stream",
          "name": "stdout",
          "text": [
            "[[2 4]\n",
            " [6 8]\n",
            " [1 3]\n",
            " [5 7]]\n"
          ]
        }
      ]
    },
    {
      "cell_type": "code",
      "source": [
        "a1 = b1.reshape((2,3))"
      ],
      "metadata": {
        "colab": {
          "base_uri": "https://localhost:8080/",
          "height": 171
        },
        "id": "U8kRVyd7V6Hi",
        "outputId": "a48d5ea3-a46b-49e0-9b2d-9171ea49c976"
      },
      "execution_count": null,
      "outputs": [
        {
          "output_type": "error",
          "ename": "ValueError",
          "evalue": "ignored",
          "traceback": [
            "\u001b[0;31m---------------------------------------------------------------------------\u001b[0m",
            "\u001b[0;31mValueError\u001b[0m                                Traceback (most recent call last)",
            "\u001b[0;32m<ipython-input-71-8e8fbdcf93a0>\u001b[0m in \u001b[0;36m<module>\u001b[0;34m()\u001b[0m\n\u001b[0;32m----> 1\u001b[0;31m \u001b[0ma1\u001b[0m \u001b[0;34m=\u001b[0m \u001b[0mb1\u001b[0m\u001b[0;34m.\u001b[0m\u001b[0mreshape\u001b[0m\u001b[0;34m(\u001b[0m\u001b[0;34m(\u001b[0m\u001b[0;36m2\u001b[0m\u001b[0;34m,\u001b[0m\u001b[0;36m3\u001b[0m\u001b[0;34m)\u001b[0m\u001b[0;34m)\u001b[0m\u001b[0;34m\u001b[0m\u001b[0;34m\u001b[0m\u001b[0m\n\u001b[0m",
            "\u001b[0;31mValueError\u001b[0m: cannot reshape array of size 8 into shape (2,3)"
          ]
        }
      ]
    },
    {
      "cell_type": "code",
      "source": [
        "#vertical stacking \n",
        "v1 = np.array([2,4,6,8])\n",
        "v2 = np.array([1,3,4,5])"
      ],
      "metadata": {
        "id": "epBsAYNKWQ8F"
      },
      "execution_count": null,
      "outputs": []
    },
    {
      "cell_type": "code",
      "source": [
        "np.vstack([v1,v2])"
      ],
      "metadata": {
        "colab": {
          "base_uri": "https://localhost:8080/"
        },
        "id": "YVzdqCudXVnl",
        "outputId": "0fb2a3ec-f5d6-4ec3-bfce-6d590f574887"
      },
      "execution_count": null,
      "outputs": [
        {
          "output_type": "execute_result",
          "data": {
            "text/plain": [
              "array([[2, 4, 6, 8],\n",
              "       [1, 3, 4, 5]])"
            ]
          },
          "metadata": {},
          "execution_count": 75
        }
      ]
    },
    {
      "cell_type": "code",
      "source": [
        "np.hstack([v1,v2])"
      ],
      "metadata": {
        "colab": {
          "base_uri": "https://localhost:8080/"
        },
        "id": "bs_Cva-zXcxX",
        "outputId": "4589509d-63ec-41cd-e163-ac3aa3f4dc4e"
      },
      "execution_count": null,
      "outputs": [
        {
          "output_type": "execute_result",
          "data": {
            "text/plain": [
              "array([2, 4, 6, 8, 1, 3, 4, 5])"
            ]
          },
          "metadata": {},
          "execution_count": 76
        }
      ]
    },
    {
      "cell_type": "markdown",
      "source": [
        "**Import Data from a file**"
      ],
      "metadata": {
        "id": "Qutb8HfdX6hA"
      }
    },
    {
      "cell_type": "code",
      "source": [
        "Data = np.genfromtxt('/content/New Text Document.txt', delimiter = ',')"
      ],
      "metadata": {
        "id": "gXj3BYjqX4jg"
      },
      "execution_count": null,
      "outputs": []
    },
    {
      "cell_type": "code",
      "source": [
        "print(Data)"
      ],
      "metadata": {
        "colab": {
          "base_uri": "https://localhost:8080/"
        },
        "id": "DEm_llsdZez_",
        "outputId": "d7fb8c72-3449-4e21-9677-d987563dcb10"
      },
      "execution_count": null,
      "outputs": [
        {
          "output_type": "stream",
          "name": "stdout",
          "text": [
            "[[ 1.  2.  3.  4.  5.]\n",
            " [ 6.  7.  8.  9. 10.]]\n"
          ]
        }
      ]
    },
    {
      "cell_type": "markdown",
      "source": [
        "**Boolean Masking and Advanced Indexing**"
      ],
      "metadata": {
        "id": "AT7n7EgsaZah"
      }
    },
    {
      "cell_type": "code",
      "source": [],
      "metadata": {
        "id": "MREe4W8Sc6AN"
      },
      "execution_count": null,
      "outputs": []
    },
    {
      "cell_type": "code",
      "source": [
        "Data == 2"
      ],
      "metadata": {
        "colab": {
          "base_uri": "https://localhost:8080/"
        },
        "id": "jou3FHOoaVzM",
        "outputId": "6e1b4f5f-35d6-4e4e-d02e-98d59fc362a9"
      },
      "execution_count": null,
      "outputs": [
        {
          "output_type": "execute_result",
          "data": {
            "text/plain": [
              "array([[False,  True, False, False, False],\n",
              "       [False, False, False, False, False]])"
            ]
          },
          "metadata": {},
          "execution_count": 89
        }
      ]
    },
    {
      "cell_type": "code",
      "source": [
        "a = np.array([10,20,30,40,50,60,70,80,90,100])"
      ],
      "metadata": {
        "id": "GsZ3y21zcRvg"
      },
      "execution_count": null,
      "outputs": []
    },
    {
      "cell_type": "code",
      "source": [
        "a[[2,5,8]]"
      ],
      "metadata": {
        "colab": {
          "base_uri": "https://localhost:8080/"
        },
        "id": "tTjPV3EKcaps",
        "outputId": "4345b05a-3711-4457-8182-da3f81b2046b"
      },
      "execution_count": null,
      "outputs": [
        {
          "output_type": "execute_result",
          "data": {
            "text/plain": [
              "array([30, 60, 90])"
            ]
          },
          "metadata": {},
          "execution_count": 97
        }
      ]
    },
    {
      "cell_type": "code",
      "source": [
        "np.any(a> 50, axis = 0)"
      ],
      "metadata": {
        "colab": {
          "base_uri": "https://localhost:8080/"
        },
        "id": "R9xjAVnDciBt",
        "outputId": "03810f66-9f8b-44bd-827e-489efd2a8912"
      },
      "execution_count": null,
      "outputs": [
        {
          "output_type": "execute_result",
          "data": {
            "text/plain": [
              "True"
            ]
          },
          "metadata": {},
          "execution_count": 98
        }
      ]
    }
  ]
}